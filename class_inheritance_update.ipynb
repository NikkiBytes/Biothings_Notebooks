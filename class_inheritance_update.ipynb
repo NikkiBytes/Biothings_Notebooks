{
 "cells": [
  {
   "cell_type": "code",
   "execution_count": 1,
   "metadata": {},
   "outputs": [],
   "source": [
    "from biothings_schema import Schema, SchemaClass, SchemaProperty\n"
   ]
  },
  {
   "cell_type": "code",
   "execution_count": 2,
   "metadata": {},
   "outputs": [],
   "source": [
    "def load_schema(schema_file_path):\n",
    "    se = Schema(schema_file_path)\n",
    "    return se"
   ]
  },
  {
   "cell_type": "markdown",
   "metadata": {},
   "source": [
    "**One Class Inheritance**"
   ]
  },
  {
   "cell_type": "code",
   "execution_count": 3,
   "metadata": {},
   "outputs": [],
   "source": [
    "schema_file_path = \"https://raw.githubusercontent.com/data2health/schemas/biothings/biothings/biothings_curie_kevin.jsonld\"\n",
    "se_one = load_schema(schema_file_path)"
   ]
  },
  {
   "cell_type": "code",
   "execution_count": 4,
   "metadata": {},
   "outputs": [],
   "source": [
    "# Tests\n",
    "def test_list_all_classes(se):\n",
    "    \"\"\"Test list_all_classes function\"\"\"\n",
    "    all_cls = se.list_all_classes()\n",
    "    all_cls_names = [_cls.name for _cls in all_cls]\n",
    "    # Assert root-level CURIE class is included\n",
    "    assert \"bts:PlanetaryEntity\" in all_cls_names, \"'bts:PlanetaryEntity' not found in class names\"\n",
    "\n",
    "    # Assert raw label name is NOT present\n",
    "    assert \"Gene\" not in all_cls_names, \"'Gene' (non-CURIE) unexpectedly found in class names\"\n",
    "\n",
    "    # Assert all classes are SchemaClass instances\n",
    "    assert all(isinstance(cls, SchemaClass) for cls in all_cls), \"Not all classes are SchemaClass instances\"\n",
    "\n",
    "    print(\"[PASS] test_list_all_classes\")\n",
    "\n",
    "def test_list_all_properties(se):\n",
    "    \"\"\"Local test of list_all_properties function\"\"\"\n",
    "    all_props = se.list_all_properties()\n",
    "    all_prop_names = [_prop.name for _prop in all_props]\n",
    "\n",
    "    assert \"schema:author\" in all_prop_names, \"'schema:author' not found in properties\"\n",
    "    assert \"name\" not in all_prop_names, \"Unexpected plain 'name' found in properties\"\n",
    "    assert \"bts:ffff\" not in all_prop_names, \"Fake property 'bts:ffff' should not exist\"\n",
    "    assert isinstance(all_props[0], SchemaProperty), \"First property is not a SchemaProperty\"\n",
    "\n",
    "    print(\"[PASS] test_list_all_properties\")\n",
    "\n",
    "def test_get_class(se):\n",
    "    \"\"\"Local test of get_class function\"\"\"\n",
    "    scls = se.get_class(\"bts:Gene\")\n",
    "    assert isinstance(scls, SchemaClass), \"Returned class is not a SchemaClass\"\n",
    "\n",
    "    print(\"[PASS] test_get_class\")\n",
    "\n",
    "def test_get_property(se):\n",
    "    \"\"\"Local test of get_property function\"\"\"\n",
    "    sp = se.get_property(\"bts:geneticallyInteractsWith\")\n",
    "    assert isinstance(sp, SchemaProperty), \"Returned property is not a SchemaProperty\"\n",
    "\n",
    "    print(\"[PASS] test_get_property\")\n"
   ]
  },
  {
   "cell_type": "code",
   "execution_count": 5,
   "metadata": {},
   "outputs": [
    {
     "name": "stdout",
     "output_type": "stream",
     "text": [
      "[PASS] test_list_all_classes\n",
      "[PASS] test_get_class\n",
      "[PASS] test_get_property\n",
      "[PASS] test_list_all_properties\n"
     ]
    }
   ],
   "source": [
    "test_list_all_classes(se_one)\n",
    "test_get_class(se_one)\n",
    "test_get_property(se_one)\n",
    "test_list_all_properties(se_one)"
   ]
  },
  {
   "cell_type": "code",
   "execution_count": 6,
   "metadata": {},
   "outputs": [],
   "source": [
    "scls_one = se_one.get_class(\"bts:Gene\")"
   ]
  },
  {
   "cell_type": "code",
   "execution_count": 7,
   "metadata": {},
   "outputs": [
    {
     "data": {
      "text/plain": [
       "[[<SchemaClass \"schema:Thing\">,\n",
       "  <SchemaClass \"bts:BiologicalEntity\">,\n",
       "  <SchemaClass \"bts:MolecularEntity\">,\n",
       "  <SchemaClass \"bts:GenomicEntity\">,\n",
       "  <SchemaClass \"bts:MacromolecularMachine\">,\n",
       "  <SchemaClass \"bts:GeneOrGeneProduct\">]]"
      ]
     },
     "execution_count": 7,
     "metadata": {},
     "output_type": "execute_result"
    }
   ],
   "source": [
    "scls_one.parent_classes"
   ]
  },
  {
   "cell_type": "code",
   "execution_count": 8,
   "metadata": {},
   "outputs": [],
   "source": [
    "scls_one = se_one.get_class(\"bts:MolecularEntity\")\n"
   ]
  },
  {
   "cell_type": "code",
   "execution_count": 9,
   "metadata": {},
   "outputs": [
    {
     "data": {
      "text/plain": [
       "<SchemaClass \"bts:MolecularEntity\">"
      ]
     },
     "execution_count": 9,
     "metadata": {},
     "output_type": "execute_result"
    }
   ],
   "source": [
    "scls_one"
   ]
  },
  {
   "cell_type": "code",
   "execution_count": 10,
   "metadata": {},
   "outputs": [
    {
     "data": {
      "text/plain": [
       "[<SchemaClass \"bts:Drug\">,\n",
       " <SchemaClass \"bts:Transcript\">,\n",
       " <SchemaClass \"bts:MacromolecularComplex\">,\n",
       " <SchemaClass \"bts:Microrna\">,\n",
       " <SchemaClass \"bts:RnaProduct\">,\n",
       " <SchemaClass \"bts:MacromolecularMachine\">,\n",
       " <SchemaClass \"bts:SequenceVariant\">,\n",
       " <SchemaClass \"bts:Metabolite\">,\n",
       " <SchemaClass \"bts:GeneProduct\">,\n",
       " <SchemaClass \"bts:ChemicalSubstance\">,\n",
       " <SchemaClass \"bts:CodingSequence\">,\n",
       " <SchemaClass \"bts:Haplotype\">,\n",
       " <SchemaClass \"bts:RnaProductIsoform\">,\n",
       " <SchemaClass \"bts:ProteinIsoform\">,\n",
       " <SchemaClass \"bts:Genome\">,\n",
       " <SchemaClass \"bts:Gene\">,\n",
       " <SchemaClass \"bts:GeneOrGeneProduct\">,\n",
       " <SchemaClass \"bts:Genotype\">,\n",
       " <SchemaClass \"bts:Exon\">,\n",
       " <SchemaClass \"bts:GenomicEntity\">,\n",
       " <SchemaClass \"bts:Protein\">,\n",
       " <SchemaClass \"bts:NoncodingRnaProduct\">,\n",
       " <SchemaClass \"bts:GeneProductIsoform\">,\n",
       " <SchemaClass \"bts:GeneFamily\">]"
      ]
     },
     "execution_count": 10,
     "metadata": {},
     "output_type": "execute_result"
    }
   ],
   "source": [
    "scls_one.descendant_classes"
   ]
  },
  {
   "cell_type": "code",
   "execution_count": 11,
   "metadata": {},
   "outputs": [],
   "source": [
    "def test_class_parent_classes(scls):\n",
    "    p_cls = scls.parent_classes\n",
    "    assert \"MacromolecularMachine\" in p_cls\n"
   ]
  },
  {
   "cell_type": "markdown",
   "metadata": {},
   "source": [
    "**Multi Class Inheritance**"
   ]
  },
  {
   "cell_type": "code",
   "execution_count": 12,
   "metadata": {},
   "outputs": [],
   "source": [
    "schema_file_path_multi_class=\"https://raw.githubusercontent.com/BioSchemas/specifications/refs/heads/master/BioSample/jsonld/type/BioSample_v0.2-DRAFT.json\"\n",
    "se_bio = load_schema(schema_file_path_multi_class)"
   ]
  },
  {
   "cell_type": "code",
   "execution_count": 13,
   "metadata": {},
   "outputs": [
    {
     "data": {
      "text/plain": [
       "[<SchemaProperty \"bioschemastypesdrafts:scientificName\">,\n",
       " <SchemaProperty \"bioschemastypesdrafts:anatomicalSystem\">,\n",
       " <SchemaProperty \"bioschemastypesdrafts:anatomicalStructure\">,\n",
       " <SchemaProperty \"bioschemastypesdrafts:sex\">,\n",
       " <SchemaProperty \"bioschemastypesdrafts:developmentalStage\">]"
      ]
     },
     "execution_count": 13,
     "metadata": {},
     "output_type": "execute_result"
    }
   ],
   "source": [
    "se_bio.list_all_defined_properties()"
   ]
  },
  {
   "cell_type": "code",
   "execution_count": 14,
   "metadata": {},
   "outputs": [],
   "source": [
    "# Tests\n",
    "def test_list_all_classes_biosample(se):\n",
    "    \"\"\"Test list_all_classes function\"\"\"\n",
    "    all_cls = se.list_all_classes()\n",
    "    all_cls_names = [_cls.name for _cls in all_cls]\n",
    "    # Assert root-level CURIE class is included\n",
    "    assert \"schema:BioChemEntity\" in all_cls_names, \"'schema:BioChemEntity' not found in class names\"\n",
    "    # Assert raw label name is NOT present\n",
    "    assert \"Gene\" not in all_cls_names, \"'Gene' (non-CURIE) unexpectedly found in class names\"\n",
    "    # Assert all classes are SchemaClass instances\n",
    "    assert all(isinstance(cls, SchemaClass) for cls in all_cls), \"Not all classes are SchemaClass instances\"\n",
    "    print(\"[PASS] test_list_all_classes\")\n",
    "\n",
    "def test_list_all_properties_biosample(se):\n",
    "    \"\"\"Local test of list_all_properties function\"\"\"\n",
    "    all_props = se.list_all_properties()\n",
    "    all_prop_names = [_prop.name for _prop in all_props]\n",
    "\n",
    "    assert \"schema:author\" in all_prop_names, \"'schema:author' not found in properties\"\n",
    "    assert \"name\" not in all_prop_names, \"Unexpected plain 'name' found in properties\"\n",
    "    assert \"bts:ffff\" not in all_prop_names, \"Fake property 'bts:ffff' should not exist\"\n",
    "    assert isinstance(all_props[0], SchemaProperty), \"First property is not a SchemaProperty\"\n",
    "\n",
    "    print(\"[PASS] test_list_all_properties\")\n",
    "\n",
    "def test_get_class_biosample(se):\n",
    "    \"\"\"Local test of get_class function\"\"\"\n",
    "    scls = se.get_class(\"BioSample\")\n",
    "    assert isinstance(scls, SchemaClass), \"Returned class is not a SchemaClass\"\n",
    "\n",
    "    print(\"[PASS] test_get_class\")\n",
    "\n",
    "def test_get_property_biosample(se):\n",
    "    \"\"\"Local test of get_property function\"\"\"\n",
    "    sp = se.get_property(\"bioschemastypesdrafts:anatomicalStructure\")\n",
    "    assert isinstance(sp, SchemaProperty), \"Returned property is not a SchemaProperty\"\n",
    "\n",
    "    print(\"[PASS] test_get_property\")\n"
   ]
  },
  {
   "cell_type": "code",
   "execution_count": 15,
   "metadata": {},
   "outputs": [
    {
     "name": "stdout",
     "output_type": "stream",
     "text": [
      "[PASS] test_list_all_classes\n",
      "[PASS] test_get_class\n",
      "[PASS] test_get_property\n",
      "[PASS] test_list_all_properties\n"
     ]
    }
   ],
   "source": [
    "test_list_all_classes_biosample(se_bio)\n",
    "test_get_class_biosample(se_bio)\n",
    "test_get_property_biosample(se_bio)\n",
    "test_list_all_properties_biosample(se_bio)"
   ]
  },
  {
   "cell_type": "code",
   "execution_count": 16,
   "metadata": {},
   "outputs": [],
   "source": [
    "scls_bio = se_bio.get_class(\"BioSample\")"
   ]
  },
  {
   "cell_type": "code",
   "execution_count": 17,
   "metadata": {},
   "outputs": [
    {
     "data": {
      "text/plain": [
       "[[<SchemaClass \"schema:Thing\">, <SchemaClass \"schema:BioChemEntity\">]]"
      ]
     },
     "execution_count": 17,
     "metadata": {},
     "output_type": "execute_result"
    }
   ],
   "source": [
    "scls_bio.parent_classes"
   ]
  },
  {
   "cell_type": "code",
   "execution_count": 18,
   "metadata": {},
   "outputs": [
    {
     "data": {
      "text/plain": [
       "[[<SchemaClass \"schema:Thing\">, <SchemaClass \"schema:BioChemEntity\">]]"
      ]
     },
     "execution_count": 18,
     "metadata": {},
     "output_type": "execute_result"
    }
   ],
   "source": [
    "scls_bio.parent_classes"
   ]
  },
  {
   "cell_type": "code",
   "execution_count": null,
   "metadata": {},
   "outputs": [],
   "source": [
    "scls = se_bio.get_class(\"BioSample\")\n",
    "scls.__dir__()"
   ]
  },
  {
   "cell_type": "code",
   "execution_count": 20,
   "metadata": {},
   "outputs": [
    {
     "data": {
      "text/plain": [
       "[[<SchemaClass \"schema:Thing\">, <SchemaClass \"schema:BioChemEntity\">]]"
      ]
     },
     "execution_count": 20,
     "metadata": {},
     "output_type": "execute_result"
    }
   ],
   "source": [
    "scls.parent_classes"
   ]
  },
  {
   "cell_type": "markdown",
   "metadata": {},
   "source": []
  },
  {
   "cell_type": "markdown",
   "metadata": {},
   "source": []
  }
 ],
 "metadata": {
  "kernelspec": {
   "display_name": "Python 3",
   "language": "python",
   "name": "python3"
  },
  "language_info": {
   "codemirror_mode": {
    "name": "ipython",
    "version": 3
   },
   "file_extension": ".py",
   "mimetype": "text/x-python",
   "name": "python",
   "nbconvert_exporter": "python",
   "pygments_lexer": "ipython3",
   "version": "3.10.0"
  }
 },
 "nbformat": 4,
 "nbformat_minor": 2
}
