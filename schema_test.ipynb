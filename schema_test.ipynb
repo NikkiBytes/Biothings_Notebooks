{
 "cells": [
  {
   "cell_type": "code",
   "execution_count": 1,
   "metadata": {},
   "outputs": [],
   "source": [
    "import jsonschema\n",
    "import json\n",
    "import pprint"
   ]
  },
  {
   "cell_type": "code",
   "execution_count": 2,
   "metadata": {},
   "outputs": [],
   "source": [
    "schema_of=\"schema1.json\"\n",
    "schema_af=\"schema2.json\""
   ]
  },
  {
   "cell_type": "markdown",
   "metadata": {},
   "source": [
    "---"
   ]
  },
  {
   "cell_type": "code",
   "execution_count": 3,
   "metadata": {},
   "outputs": [],
   "source": [
    "schema_of = json.load(open(schema_of, 'r'))\n",
    "schema_af = json.load(open(schema_af, 'r'))"
   ]
  },
  {
   "cell_type": "code",
   "execution_count": 5,
   "metadata": {},
   "outputs": [],
   "source": [
    "dataset_d = \"testdata.json\"\n",
    "document_d = json.load(open(dataset_d, 'r'))\n",
    "dataset_dt = \"testdata2.json\"\n",
    "document_dt = json.load(open(dataset_dt, 'r'))\n",
    "dataset_invalid = \"testdata3.json\"\n",
    "document_invalid = json.load(open(dataset_invalid, 'r'))"
   ]
  },
  {
   "cell_type": "code",
   "execution_count": 47,
   "metadata": {},
   "outputs": [
    {
     "name": "stdout",
     "output_type": "stream",
     "text": [
      "{'@context': 'http://schema.org/',\n",
      " '@type': 'Dataset',\n",
      " 'datePublished': '2016-04-16'}\n"
     ]
    }
   ],
   "source": [
    "pprint.pprint(document_d)"
   ]
  },
  {
   "cell_type": "code",
   "execution_count": 48,
   "metadata": {},
   "outputs": [
    {
     "name": "stdout",
     "output_type": "stream",
     "text": [
      "{'@context': 'http://schema.org/',\n",
      " '@type': 'Dataset',\n",
      " 'datePublished': '2016-04-16T00:00:00Z'}\n"
     ]
    }
   ],
   "source": [
    "pprint.pprint(document_dt)"
   ]
  },
  {
   "cell_type": "code",
   "execution_count": 46,
   "metadata": {},
   "outputs": [
    {
     "name": "stdout",
     "output_type": "stream",
     "text": [
      "{'@context': 'http://schema.org/',\n",
      " '@type': 'Dataset',\n",
      " 'datePublished': '2016-04-16TT'}\n"
     ]
    }
   ],
   "source": [
    "pprint.pprint(document_invalid)"
   ]
  },
  {
   "cell_type": "code",
   "execution_count": 6,
   "metadata": {},
   "outputs": [
    {
     "name": "stdout",
     "output_type": "stream",
     "text": [
      "{'@context': 'http://schema.org/',\n",
      " '@type': 'Dataset',\n",
      " 'datePublished': 'e89afhauiehfewa0'}\n"
     ]
    }
   ],
   "source": [
    "pprint.pprint(document_invalid2)"
   ]
  },
  {
   "cell_type": "code",
   "execution_count": 17,
   "metadata": {},
   "outputs": [],
   "source": [
    "validator_of = jsonschema.Draft7Validator(schema_of)\n",
    "validator_af = jsonschema.Draft7Validator(schema_af)\n",
    "validator_af_fc = jsonschema.Draft7Validator(schema_af, format_checker=jsonschema.FormatChecker())"
   ]
  },
  {
   "cell_type": "markdown",
   "metadata": {},
   "source": [
    "---"
   ]
  },
  {
   "cell_type": "code",
   "execution_count": 8,
   "metadata": {},
   "outputs": [],
   "source": [
    "def validate_schema(document, validator) -> None:\n",
    "    errors = sorted(validator.iter_errors(document), key=lambda e: e.path)\n",
    "\n",
    "    if errors:\n",
    "        print(\"❌ Validation errors:\")\n",
    "        for error in errors:\n",
    "            path = \".\".join(map(str, error.path)) or \"(root)\"\n",
    "            print(f\"\\n📍 Field: {path}\")\n",
    "            print(f\"🚫 Message: {error.message}\")\n",
    "            print(f\"🔑 Keyword: {error.validator}\")\n",
    "            print(f\"📎 Schema rule: {json.dumps(error.schema, indent=2)}\")\n",
    "            print(f\"💡 Offending value: {json.dumps(error.instance)}\")\n",
    "    else:\n",
    "        print(\"✅ No validation errors!\")\n"
   ]
  },
  {
   "cell_type": "markdown",
   "metadata": {},
   "source": [
    "`oneOf` & `2016-04-16TT`"
   ]
  },
  {
   "cell_type": "code",
   "execution_count": 9,
   "metadata": {},
   "outputs": [
    {
     "name": "stdout",
     "output_type": "stream",
     "text": [
      "❌ Validation errors:\n",
      "\n",
      "📍 Field: datePublished\n",
      "🚫 Message: '2016-04-16TT' is valid under each of {'type': 'string', 'format': 'date'}, {'type': 'string', 'format': 'date-time'}\n",
      "🔑 Keyword: oneOf\n",
      "📎 Schema rule: {\n",
      "  \"description\": \"Date of first publication of this dataset.\",\n",
      "  \"oneOf\": [\n",
      "    {\n",
      "      \"type\": \"string\",\n",
      "      \"format\": \"date-time\"\n",
      "    },\n",
      "    {\n",
      "      \"type\": \"string\",\n",
      "      \"format\": \"date\"\n",
      "    }\n",
      "  ]\n",
      "}\n",
      "💡 Offending value: \"2016-04-16TT\"\n"
     ]
    }
   ],
   "source": [
    "validate_schema(document_invalid, validator_of)"
   ]
  },
  {
   "cell_type": "markdown",
   "metadata": {},
   "source": [
    "`oneOf` & `2016-04-16`"
   ]
  },
  {
   "cell_type": "code",
   "execution_count": 10,
   "metadata": {},
   "outputs": [
    {
     "name": "stdout",
     "output_type": "stream",
     "text": [
      "❌ Validation errors:\n",
      "\n",
      "📍 Field: datePublished\n",
      "🚫 Message: '2016-04-16' is valid under each of {'type': 'string', 'format': 'date'}, {'type': 'string', 'format': 'date-time'}\n",
      "🔑 Keyword: oneOf\n",
      "📎 Schema rule: {\n",
      "  \"description\": \"Date of first publication of this dataset.\",\n",
      "  \"oneOf\": [\n",
      "    {\n",
      "      \"type\": \"string\",\n",
      "      \"format\": \"date-time\"\n",
      "    },\n",
      "    {\n",
      "      \"type\": \"string\",\n",
      "      \"format\": \"date\"\n",
      "    }\n",
      "  ]\n",
      "}\n",
      "💡 Offending value: \"2016-04-16\"\n"
     ]
    }
   ],
   "source": [
    "validate_schema(document_d, validator_of)"
   ]
  },
  {
   "cell_type": "markdown",
   "metadata": {},
   "source": [
    "`oneOf` & `2016-04-16T00:00:00Z`"
   ]
  },
  {
   "cell_type": "code",
   "execution_count": 11,
   "metadata": {},
   "outputs": [
    {
     "name": "stdout",
     "output_type": "stream",
     "text": [
      "❌ Validation errors:\n",
      "\n",
      "📍 Field: datePublished\n",
      "🚫 Message: '2016-04-16T00:00:00Z' is valid under each of {'type': 'string', 'format': 'date'}, {'type': 'string', 'format': 'date-time'}\n",
      "🔑 Keyword: oneOf\n",
      "📎 Schema rule: {\n",
      "  \"description\": \"Date of first publication of this dataset.\",\n",
      "  \"oneOf\": [\n",
      "    {\n",
      "      \"type\": \"string\",\n",
      "      \"format\": \"date-time\"\n",
      "    },\n",
      "    {\n",
      "      \"type\": \"string\",\n",
      "      \"format\": \"date\"\n",
      "    }\n",
      "  ]\n",
      "}\n",
      "💡 Offending value: \"2016-04-16T00:00:00Z\"\n"
     ]
    }
   ],
   "source": [
    "validate_schema(document_dt, validator_of)"
   ]
  },
  {
   "cell_type": "markdown",
   "metadata": {},
   "source": [
    "`anyOf` & `2016-04-16`"
   ]
  },
  {
   "cell_type": "code",
   "execution_count": 12,
   "metadata": {},
   "outputs": [
    {
     "name": "stdout",
     "output_type": "stream",
     "text": [
      "✅ No validation errors!\n"
     ]
    }
   ],
   "source": [
    "validate_schema(document_d, validator_af)"
   ]
  },
  {
   "cell_type": "markdown",
   "metadata": {},
   "source": [
    "`anyOf` & `2016-04-16T00:00:00Z`"
   ]
  },
  {
   "cell_type": "code",
   "execution_count": 22,
   "metadata": {},
   "outputs": [
    {
     "name": "stdout",
     "output_type": "stream",
     "text": [
      "✅ No validation errors!\n"
     ]
    }
   ],
   "source": [
    "validate_schema(document_dt, validator_af)"
   ]
  },
  {
   "cell_type": "markdown",
   "metadata": {},
   "source": [
    "`anyOf` & `2016-04-16TT`"
   ]
  },
  {
   "cell_type": "code",
   "execution_count": 21,
   "metadata": {},
   "outputs": [
    {
     "name": "stdout",
     "output_type": "stream",
     "text": [
      "✅ No validation errors!\n"
     ]
    }
   ],
   "source": [
    "validate_schema(document_invalid, validator_af)"
   ]
  },
  {
   "cell_type": "markdown",
   "metadata": {},
   "source": [
    "`anyOf` with a `FormatChecker`  & `2016-04-16`"
   ]
  },
  {
   "cell_type": "code",
   "execution_count": 24,
   "metadata": {},
   "outputs": [
    {
     "name": "stdout",
     "output_type": "stream",
     "text": [
      "✅ No validation errors!\n"
     ]
    }
   ],
   "source": [
    "validate_schema(document_d, validator_af_fc)"
   ]
  },
  {
   "cell_type": "markdown",
   "metadata": {},
   "source": [
    "`anyOf` with a `FormatChecker`  & `2016-04-16T00:00:00Z`"
   ]
  },
  {
   "cell_type": "code",
   "execution_count": 25,
   "metadata": {},
   "outputs": [
    {
     "name": "stdout",
     "output_type": "stream",
     "text": [
      "✅ No validation errors!\n"
     ]
    }
   ],
   "source": [
    "validate_schema(document_dt, validator_af_fc)"
   ]
  },
  {
   "cell_type": "markdown",
   "metadata": {},
   "source": [
    "`anyOf` with a `FormatChecker`  & `2016-04-16TT`"
   ]
  },
  {
   "cell_type": "code",
   "execution_count": 19,
   "metadata": {},
   "outputs": [
    {
     "name": "stdout",
     "output_type": "stream",
     "text": [
      "❌ Validation errors:\n",
      "\n",
      "📍 Field: datePublished\n",
      "🚫 Message: '2016-04-16TT' is not valid under any of the given schemas\n",
      "🔑 Keyword: anyOf\n",
      "📎 Schema rule: {\n",
      "  \"description\": \"Date of first publication of this dataset.\",\n",
      "  \"anyOf\": [\n",
      "    {\n",
      "      \"type\": \"string\",\n",
      "      \"format\": \"date-time\"\n",
      "    },\n",
      "    {\n",
      "      \"type\": \"string\",\n",
      "      \"format\": \"date\"\n",
      "    }\n",
      "  ]\n",
      "}\n",
      "💡 Offending value: \"2016-04-16TT\"\n"
     ]
    }
   ],
   "source": [
    "validate_schema(document_invalid, validator_af_fc)"
   ]
  },
  {
   "cell_type": "markdown",
   "metadata": {},
   "source": [
    "---"
   ]
  }
 ],
 "metadata": {
  "kernelspec": {
   "display_name": "Python 3",
   "language": "python",
   "name": "python3"
  },
  "language_info": {
   "codemirror_mode": {
    "name": "ipython",
    "version": 3
   },
   "file_extension": ".py",
   "mimetype": "text/x-python",
   "name": "python",
   "nbconvert_exporter": "python",
   "pygments_lexer": "ipython3",
   "version": "3.10.0"
  }
 },
 "nbformat": 4,
 "nbformat_minor": 2
}
